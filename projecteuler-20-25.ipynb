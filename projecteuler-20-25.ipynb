{
 "cells": [
  {
   "cell_type": "markdown",
   "metadata": {},
   "source": [
    "# Project Euler\n",
    "\n",
    "What follows are Python-based solutions to <a href=\"https://projecteuler.net\">Project Euler</a> problems. In writing the code, I have aimed for a balance between readability and being concise, for which Python is well-suited. Efficiency is only considered if necessary to get reasonable runtime. To check your answers, create an account on Project Euler, where you can submit answers for validation and track your progress."
   ]
  },
  {
   "cell_type": "markdown",
   "metadata": {},
   "source": [
    "### 20. Factorial digit sum\n",
    "\n",
    "n! means n × (n − 1) × ... × 3 × 2 × 1\n",
    "\n",
    "For example, 10! = 10 × 9 × ... × 3 × 2 × 1 = 3628800,\n",
    "and the sum of the digits in the number 10! is 3 + 6 + 2 + 8 + 8 + 0 + 0 = 27.\n",
    "\n",
    "Find the sum of the digits in the number 100!"
   ]
  },
  {
   "cell_type": "code",
   "execution_count": 1,
   "metadata": {},
   "outputs": [
    {
     "name": "stdout",
     "output_type": "stream",
     "text": [
      "648\n"
     ]
    }
   ],
   "source": [
    "def factorial(n):\n",
    "    if n == 0:\n",
    "        return 1\n",
    "    else:\n",
    "        return n * factorial(n - 1)\n",
    "\n",
    "\n",
    "def sum_digits(n):\n",
    "    return sum([int(i) for i in str(n)])\n",
    "\n",
    "\n",
    "num = 100\n",
    "sumNums = sum_digits(factorial(num))\n",
    "\n",
    "print(sumNums)"
   ]
  },
  {
   "cell_type": "markdown",
   "metadata": {},
   "source": [
    "### 25. 1000-digit Fibonacci number\n",
    "The Fibonacci sequence is defined by the recurrence relation $F_n = F_{n−1} + F_{n−2}$, where $F_1 = 1$ and $F_2 = 1$.\n",
    "Hence the first 12 terms will be 1, 1, 2, 3, 5, 8, 13, 21, 34, 55, 89, 144. The 12th term, $F_{12}$, is the first term to contain three digits.\n",
    "\n",
    "What is the index of the first term in the Fibonacci sequence to contain 1000 digits?"
   ]
  },
  {
   "cell_type": "code",
   "execution_count": 2,
   "metadata": {},
   "outputs": [
    {
     "name": "stdout",
     "output_type": "stream",
     "text": [
      "4782\n"
     ]
    }
   ],
   "source": [
    "f1 = 1\n",
    "f2 = 1\n",
    "fibNum = f1 + f2\n",
    "index = 2\n",
    "numDigits = 1000\n",
    "\n",
    "while(fibNum / (10 ** (numDigits-1)) < 1):\n",
    "    fibNum = f2 + f1\n",
    "    f1 = f2\n",
    "    f2 = fibNum\n",
    "    index += 1\n",
    "\n",
    "print(index)"
   ]
  },
  {
   "cell_type": "code",
   "execution_count": null,
   "metadata": {},
   "outputs": [],
   "source": []
  }
 ],
 "metadata": {
  "kernelspec": {
   "display_name": "Python 3",
   "language": "python",
   "name": "python3"
  },
  "language_info": {
   "codemirror_mode": {
    "name": "ipython",
    "version": 3
   },
   "file_extension": ".py",
   "mimetype": "text/x-python",
   "name": "python",
   "nbconvert_exporter": "python",
   "pygments_lexer": "ipython3",
   "version": "3.6.5"
  }
 },
 "nbformat": 4,
 "nbformat_minor": 1
}
